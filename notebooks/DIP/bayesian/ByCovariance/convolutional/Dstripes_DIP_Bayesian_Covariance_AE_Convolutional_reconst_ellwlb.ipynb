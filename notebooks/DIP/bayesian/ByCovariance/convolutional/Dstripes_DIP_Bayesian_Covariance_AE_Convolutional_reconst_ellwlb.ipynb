{
  "nbformat": 4,
  "nbformat_minor": 0,
  "metadata": {
    "kernelspec": {
      "display_name": "Python 3",
      "language": "python",
      "name": "python3"
    },
    "language_info": {
      "codemirror_mode": {
        "name": "ipython",
        "version": 3
      },
      "file_extension": ".py",
      "mimetype": "text/x-python",
      "name": "python",
      "nbconvert_exporter": "python",
      "pygments_lexer": "ipython3",
      "version": "3.7.5"
    },
    "colab": {
      "name": "Dstripes_DIP_Bayesian_Covariance_AE_Convolutional_reconst_ellwlb.ipynb",
      "provenance": [],
      "toc_visible": true
    },
    "accelerator": "GPU"
  },
  "cells": [
    {
      "cell_type": "markdown",
      "metadata": {
        "id": "VxqWHveEOoM0",
        "colab_type": "text"
      },
      "source": [
        "# Settings"
      ]
    },
    {
      "cell_type": "code",
      "metadata": {
        "id": "Nm1CMbpxOz_h",
        "colab_type": "code",
        "colab": {}
      },
      "source": [
        "!git clone https://github.com/Jav1d/Generative_Models.git # this is for loading git with correct brach\n",
        "%cd /content/Generative_Models/\n",
        "!git checkout dev\n",
        "\n",
        "!pip -q install -r /content/Generative_Models/requirements.txt\n",
        "%cd /content/"
      ],
      "execution_count": null,
      "outputs": []
    },
    {
      "cell_type": "code",
      "metadata": {
        "id": "FD7FBUSJP54S",
        "colab_type": "code",
        "colab": {}
      },
      "source": [
        "from google.colab import drive\n",
        "drive.mount('/content/drive')\n",
        "MAIN_SAVE_DIR = '/content/drive/My Drive/ProjectLab2 Results'\n",
        "DATASET_DIR = '/content/drive/My Drive/data_test'"
      ],
      "execution_count": null,
      "outputs": []
    },
    {
      "cell_type": "code",
      "metadata": {
        "id": "GXwtLw2vOoNA",
        "colab_type": "code",
        "colab": {}
      },
      "source": [
        "%env TF_KERAS = 1\n",
        "import os\n",
        "sep_local = os.path.sep\n",
        "\n",
        "\n",
        "import os\n",
        "# os.chdir('..' + sep_local + '..' + sep_local + '..') # For Linux import\n",
        "os.chdir('/content/Generative_Models/')"
      ],
      "execution_count": null,
      "outputs": []
    },
    {
      "cell_type": "code",
      "metadata": {
        "id": "wbeTQ_yTOoNE",
        "colab_type": "code",
        "colab": {}
      },
      "source": [
        "import tensorflow as tf\n",
        "print(tf.__version__)"
      ],
      "execution_count": null,
      "outputs": []
    },
    {
      "cell_type": "markdown",
      "metadata": {
        "id": "5FQYJkIVOoNP",
        "colab_type": "text"
      },
      "source": [
        "# Dataset loading"
      ]
    },
    {
      "cell_type": "code",
      "metadata": {
        "id": "IEAR-pCBOoNQ",
        "colab_type": "code",
        "colab": {}
      },
      "source": [
        "dataset_name='dsprites'"
      ],
      "execution_count": null,
      "outputs": []
    },
    {
      "cell_type": "code",
      "metadata": {
        "id": "HvhDLlNGOoNU",
        "colab_type": "code",
        "colab": {}
      },
      "source": [
        "import tensorflow as tf"
      ],
      "execution_count": null,
      "outputs": []
    },
    {
      "cell_type": "code",
      "metadata": {
        "id": "tp0aS3qUOoNa",
        "colab_type": "code",
        "colab": {}
      },
      "source": [
        "inputs_shape= image_size=(64, 64, 1)\n",
        "batch_size = 32\n",
        "latents_dim = 32\n",
        "intermediate_dim = 50"
      ],
      "execution_count": null,
      "outputs": []
    },
    {
      "cell_type": "code",
      "metadata": {
        "id": "-ePnvtnjOoNk",
        "colab_type": "code",
        "colab": {}
      },
      "source": [
        "import tensorflow_datasets as tfds\n",
        "\n",
        "info = tfds.builder(dataset_name).info\n",
        "\n",
        "print(info)"
      ],
      "execution_count": null,
      "outputs": []
    },
    {
      "cell_type": "code",
      "metadata": {
        "id": "NWhb0NPwOoNy",
        "colab_type": "code",
        "colab": {}
      },
      "source": [
        "TRAIN_BUF = 600\n",
        "TEST_BUF = 100\n",
        "\n",
        "import tensorflow_datasets as tfds\n",
        "# Construct a tf.data.Dataset\n",
        "train_ds = tfds.load(name=dataset_name, split=tfds.Split.TRAIN, data_dir = DATASET_DIR).shuffle(TRAIN_BUF).batch(batch_size)\n",
        "try:\n",
        "    test_ds = tfds.load(name=dataset_name, split=tfds.Split.TEST, data_dir = DATASET_DIR).shuffle(TEST_BUF).batch(batch_size)\n",
        "except:\n",
        "    test_ds = tfds.load(name=dataset_name, split=tfds.Split.TRAIN, data_dir = DATASET_DIR).shuffle(TRAIN_BUF).batch(batch_size)\n"
      ],
      "execution_count": null,
      "outputs": []
    },
    {
      "cell_type": "code",
      "metadata": {
        "id": "0VX06YpMOoN7",
        "colab_type": "code",
        "colab": {}
      },
      "source": [
        "_instance_scale=1.0\n",
        "for data in train_ds:\n",
        "    _instance_scale = float(data['image'].numpy().max())\n",
        "    break"
      ],
      "execution_count": null,
      "outputs": []
    },
    {
      "cell_type": "code",
      "metadata": {
        "id": "OZC31z_cOoOM",
        "colab_type": "code",
        "colab": {}
      },
      "source": [
        "_instance_scale"
      ],
      "execution_count": null,
      "outputs": []
    },
    {
      "cell_type": "code",
      "metadata": {
        "id": "23LN1lFNOoOW",
        "colab_type": "code",
        "colab": {}
      },
      "source": [
        "import numpy as np\n",
        "from collections.abc import Iterable"
      ],
      "execution_count": null,
      "outputs": []
    },
    {
      "cell_type": "code",
      "metadata": {
        "id": "-d_P_g6zOoOd",
        "colab_type": "code",
        "colab": {}
      },
      "source": [
        "if isinstance(inputs_shape, Iterable):\n",
        "    _outputs_shape = np.prod(inputs_shape)"
      ],
      "execution_count": null,
      "outputs": []
    },
    {
      "cell_type": "code",
      "metadata": {
        "id": "cpEAAULvOoOm",
        "colab_type": "code",
        "colab": {}
      },
      "source": [
        "_outputs_shape"
      ],
      "execution_count": null,
      "outputs": []
    },
    {
      "cell_type": "markdown",
      "metadata": {
        "id": "UTUeTiruOoOp",
        "colab_type": "text"
      },
      "source": [
        "# Model's Layers definition"
      ]
    },
    {
      "cell_type": "code",
      "metadata": {
        "id": "-k9hu2phOoOq",
        "colab_type": "code",
        "colab": {}
      },
      "source": [
        "units=20\n",
        "c=16\n",
        "enc_lays = [\n",
        "    tf.keras.layers.Conv2D(filters=units, kernel_size=3, strides=(2, 2), activation='relu'),\n",
        "    tf.keras.layers.Conv2D(filters=units*9, kernel_size=3, strides=(2, 2), activation='relu'),\n",
        "    tf.keras.layers.Flatten(),\n",
        "    # No activation\n",
        "    tf.keras.layers.Dense(latents_dim)\n",
        "]\n",
        "\n",
        "dec_lays = [\n",
        "    tf.keras.layers.Dense(units=c*c*units, activation=tf.nn.relu),\n",
        "    tf.keras.layers.Reshape(target_shape=(c , c, units)),\n",
        "    tf.keras.layers.Conv2DTranspose(filters=units, kernel_size=3, strides=(2, 2), padding=\"SAME\", activation='relu'),\n",
        "    tf.keras.layers.Conv2DTranspose(filters=units*3, kernel_size=3, strides=(2, 2), padding=\"SAME\", activation='relu'),\n",
        "    \n",
        "    # No activation\n",
        "    tf.keras.layers.Conv2DTranspose(filters=1, kernel_size=3, strides=(1, 1), padding=\"SAME\")\n",
        "]"
      ],
      "execution_count": null,
      "outputs": []
    },
    {
      "cell_type": "markdown",
      "metadata": {
        "id": "nYAFSOJwOoO0",
        "colab_type": "text"
      },
      "source": [
        "# Model definition"
      ]
    },
    {
      "cell_type": "code",
      "metadata": {
        "id": "u39f_kdLOoO1",
        "colab_type": "code",
        "colab": {}
      },
      "source": [
        "import os \n",
        "model_name = dataset_name+'_DIP_Bayesian_Covariance_AE_Convolutional_reconst_ellwlb'\n",
        "recording_dir=MAIN_SAVE_DIR + sep_local  +'recording'+sep_local + model_name\n",
        "#experiments_dir='experiments'+sep_local+model_name"
      ],
      "execution_count": null,
      "outputs": []
    },
    {
      "cell_type": "code",
      "metadata": {
        "id": "PKjwsM-IRDyj",
        "colab_type": "code",
        "colab": {}
      },
      "source": [
        "from os.path import abspath\n",
        "absolute = abspath(recording_dir)\n",
        "print(\"Recording_dir\",absolute)\n",
        "print(\"Current working dir\",os.getcwd())"
      ],
      "execution_count": null,
      "outputs": []
    },
    {
      "cell_type": "code",
      "metadata": {
        "scrolled": true,
        "id": "IHjp-kSwOoO5",
        "colab_type": "code",
        "colab": {}
      },
      "source": [
        "from training.disentangled_inferred_prior.bayesian.ByCovariance.Bayesian_Covariance_AE import Bayesian_Covariance_AE as AE"
      ],
      "execution_count": null,
      "outputs": []
    },
    {
      "cell_type": "code",
      "metadata": {
        "id": "nygzCv5fOoO9",
        "colab_type": "code",
        "colab": {}
      },
      "source": [
        "inputs_shape=image_size"
      ],
      "execution_count": null,
      "outputs": []
    },
    {
      "cell_type": "code",
      "metadata": {
        "id": "D2KEx43UOoPI",
        "colab_type": "code",
        "colab": {}
      },
      "source": [
        "variables_params = \\\n",
        "[\n",
        "    {\n",
        "        'name': 'inference', \n",
        "        'inputs_shape':inputs_shape,\n",
        "        'outputs_shape':latents_dim,\n",
        "        'layers': enc_lays\n",
        "    }\n",
        "\n",
        "    ,\n",
        "    \n",
        "        {\n",
        "        'name': 'generative', \n",
        "        'inputs_shape':latents_dim,\n",
        "        'outputs_shape':inputs_shape,\n",
        "        'layers':dec_lays\n",
        "    }\n",
        "]"
      ],
      "execution_count": null,
      "outputs": []
    },
    {
      "cell_type": "code",
      "metadata": {
        "id": "NMbFDbc8OoPM",
        "colab_type": "code",
        "colab": {}
      },
      "source": [
        "from utils.data_and_files.file_utils import create_if_not_exist\n",
        "_restore = os.path.join(recording_dir, 'var_save_dir')\n",
        "create_if_not_exist(_restore)\n",
        "absolute = abspath(_restore)\n",
        "print(\"Restore_dir\",absolute)"
      ],
      "execution_count": null,
      "outputs": []
    },
    {
      "cell_type": "code",
      "metadata": {
        "id": "jx7EyNKgOoPl",
        "colab_type": "code",
        "colab": {}
      },
      "source": [
        "#to restore trained model, set filepath=_restore"
      ],
      "execution_count": null,
      "outputs": []
    },
    {
      "cell_type": "code",
      "metadata": {
        "scrolled": false,
        "id": "Q8Uv3r5zOoPq",
        "colab_type": "code",
        "colab": {}
      },
      "source": [
        "ae = AE( \n",
        "    name=model_name,\n",
        "    latents_dim=latents_dim,\n",
        "    batch_size=batch_size,\n",
        "    variables_params=variables_params, \n",
        "    filepath=_restore\n",
        "    )"
      ],
      "execution_count": null,
      "outputs": []
    },
    {
      "cell_type": "code",
      "metadata": {
        "id": "k3FUoqG5OoP4",
        "colab_type": "code",
        "colab": {}
      },
      "source": [
        "#ae.compile(metrics=None)\n",
        "ae.compile()"
      ],
      "execution_count": null,
      "outputs": []
    },
    {
      "cell_type": "markdown",
      "metadata": {
        "id": "DdT0hSKDOoQB",
        "colab_type": "text"
      },
      "source": [
        "# Callbacks"
      ]
    },
    {
      "cell_type": "code",
      "metadata": {
        "id": "Eu8g29v3OoQI",
        "colab_type": "code",
        "colab": {}
      },
      "source": [
        "import logging\n",
        "mpl_logger = logging.getLogger('matplotlib')\n",
        "mpl_logger.setLevel(logging.WARNING)\n",
        "from training.callbacks.progress_bar import NotebookPrograssBar\n",
        "from training.callbacks.sample_generation import SampleGeneration\n",
        "from training.callbacks.save_model import ModelSaver"
      ],
      "execution_count": null,
      "outputs": []
    },
    {
      "cell_type": "code",
      "metadata": {
        "id": "apObaxSIOoQP",
        "colab_type": "code",
        "colab": {}
      },
      "source": [
        "es = tf.keras.callbacks.EarlyStopping(\n",
        "    monitor='loss', \n",
        "    min_delta=1e-12, \n",
        "    patience=12, \n",
        "    verbose=1, \n",
        "    restore_best_weights=False\n",
        ")"
      ],
      "execution_count": null,
      "outputs": []
    },
    {
      "cell_type": "code",
      "metadata": {
        "id": "rXMCxZsDOoQY",
        "colab_type": "code",
        "colab": {}
      },
      "source": [
        "ms = ModelSaver(filepath=_restore)"
      ],
      "execution_count": null,
      "outputs": []
    },
    {
      "cell_type": "code",
      "metadata": {
        "id": "HmAiwWwiOoQg",
        "colab_type": "code",
        "colab": {}
      },
      "source": [
        "csv_dir = os.path.join(recording_dir, 'csv_dir')\n",
        "create_if_not_exist(csv_dir)\n",
        "csv_dir = os.path.join(csv_dir, model_name+'.csv')\n",
        "csv_log = tf.keras.callbacks.CSVLogger(csv_dir, append=True)\n",
        "absolute = abspath(csv_dir)\n",
        "print(\"Csv_dir\",absolute)"
      ],
      "execution_count": null,
      "outputs": []
    },
    {
      "cell_type": "code",
      "metadata": {
        "id": "QwxxoADdOoQu",
        "colab_type": "code",
        "colab": {}
      },
      "source": [
        "image_gen_dir = os.path.join(recording_dir, 'image_gen_dir')\n",
        "create_if_not_exist(image_gen_dir)\n",
        "absolute = abspath(image_gen_dir)\n",
        "print(\"Image_gen_dir\",absolute)"
      ],
      "execution_count": null,
      "outputs": []
    },
    {
      "cell_type": "code",
      "metadata": {
        "id": "bBokjg0bOoQz",
        "colab_type": "code",
        "colab": {}
      },
      "source": [
        "sg = SampleGeneration(latents_shape=latents_dim, filepath=image_gen_dir, gen_freq=5, save_img=True, gray_plot=True)"
      ],
      "execution_count": null,
      "outputs": []
    },
    {
      "cell_type": "code",
      "metadata": {
        "id": "ypWEjyVpOoQ8",
        "colab_type": "code",
        "colab": {}
      },
      "source": [
        "import numpy as np"
      ],
      "execution_count": null,
      "outputs": []
    },
    {
      "cell_type": "code",
      "metadata": {
        "id": "3FGgl2NLOoRB",
        "colab_type": "code",
        "colab": {}
      },
      "source": [
        "#DATA_DOWN_PATH = '..'+sep_local+'..'+sep_local+'..'+sep_local+'data'\n",
        "DATA_DOWN_PATH = os.getcwd() + sep_local+'data'\n",
        "Script_dir = os.getcwd() + sep_local+'data'+sep_local+'download_gt_data.sh'\n",
        "# Script call to download \"dsprites_full\" dataset_name \n",
        "!/bin/bash $Script_dir -f $DATA_DOWN_PATH -d $dataset_name"
      ],
      "execution_count": null,
      "outputs": []
    },
    {
      "cell_type": "code",
      "metadata": {
        "id": "SQ_ykP4_OoRH",
        "colab_type": "code",
        "colab": {}
      },
      "source": [
        "from os.path import abspath\n",
        "\n",
        "from data.gt_load.datasets import load\n",
        "DATA_PATH = DATA_DOWN_PATH +sep_local+'.gt_datasets'\n",
        "absolute = abspath(DATA_PATH)\n",
        "print(\"DATA_PATH\",absolute)\n"
      ],
      "execution_count": null,
      "outputs": []
    },
    {
      "cell_type": "code",
      "metadata": {
        "id": "HgQPONoCOoRK",
        "colab_type": "code",
        "colab": {}
      },
      "source": [
        "eval_dataset = load(dataset_name='dsprites_full', dataset_path=DATA_PATH)"
      ],
      "execution_count": null,
      "outputs": []
    },
    {
      "cell_type": "code",
      "metadata": {
        "id": "Pl9e0bbCOoRP",
        "colab_type": "code",
        "colab": {}
      },
      "source": [
        "from training.callbacks.disentangle_supervied import DisentanglementSuperviedMetrics\n",
        "from training.callbacks.disentangle_unsupervied import DisentanglementUnsuperviedMetrics"
      ],
      "execution_count": null,
      "outputs": []
    },
    {
      "cell_type": "code",
      "metadata": {
        "id": "uL4AekSbOoRZ",
        "colab_type": "code",
        "colab": {}
      },
      "source": [
        "gts_csv = os.path.join(recording_dir, 'csv_dir', 'gts_metrics')\n",
        "gtu_csv = os.path.join(recording_dir, 'csv_dir', 'gtu_metrics')"
      ],
      "execution_count": null,
      "outputs": []
    },
    {
      "cell_type": "code",
      "metadata": {
        "id": "NHIJXTLPOoRd",
        "colab_type": "code",
        "colab": {}
      },
      "source": [
        "gts_mertics = DisentanglementSuperviedMetrics(            \n",
        "    ground_truth_data=eval_dataset,\n",
        "    representation_fn=lambda x: ae.encode(x),\n",
        "    random_state=np.random.RandomState(0),\n",
        "    file_Name=gts_csv,\n",
        "    num_train=10000,\n",
        "    num_test=100,\n",
        "    batch_size=batch_size,\n",
        "    continuous_factors=False,\n",
        "    gt_freq=10\n",
        ")\n",
        "gtu_mertics = DisentanglementUnsuperviedMetrics(            \n",
        "    ground_truth_data=eval_dataset,\n",
        "    representation_fn=lambda x: ae.encode(x),\n",
        "    random_state=np.random.RandomState(0),\n",
        "    file_Name=gtu_csv,\n",
        "    num_train=10000,\n",
        "    num_test=100,\n",
        "    batch_size=batch_size,\n",
        "    gt_freq=10\n",
        ")"
      ],
      "execution_count": null,
      "outputs": []
    },
    {
      "cell_type": "markdown",
      "metadata": {
        "id": "95LjSPMsOoRk",
        "colab_type": "text"
      },
      "source": [
        "# Model Training"
      ]
    },
    {
      "cell_type": "code",
      "metadata": {
        "id": "BKGbIrf7GxlP",
        "colab_type": "code",
        "colab": {}
      },
      "source": [
        "import warnings\n",
        "warnings.simplefilter(action='ignore', category=FutureWarning)"
      ],
      "execution_count": null,
      "outputs": []
    },
    {
      "cell_type": "code",
      "metadata": {
        "scrolled": true,
        "id": "VYtartSzOoRl",
        "colab_type": "code",
        "colab": {}
      },
      "source": [
        "ae.fit(\n",
        "    x=train_ds,\n",
        "    input_kw='image',\n",
        "    steps_per_epoch=int(1e4),\n",
        "    epochs=int(1e6), \n",
        "    verbose=1,\n",
        "    callbacks=[ es, ms, csv_log, sg, gts_mertics, gtu_mertics],\n",
        "    workers=-1,\n",
        "    use_multiprocessing=True,\n",
        "    validation_data=test_ds,\n",
        "    validation_steps=int(1e4)\n",
        ")"
      ],
      "execution_count": null,
      "outputs": []
    },
    {
      "cell_type": "code",
      "metadata": {
        "id": "sCoZ0pxpOoR9",
        "colab_type": "code",
        "colab": {}
      },
      "source": [
        ""
      ],
      "execution_count": null,
      "outputs": []
    },
    {
      "cell_type": "markdown",
      "metadata": {
        "id": "0HdHVn1COoSL",
        "colab_type": "text"
      },
      "source": [
        "# Model Evaluation"
      ]
    },
    {
      "cell_type": "markdown",
      "metadata": {
        "id": "4bO8p7hrOoSN",
        "colab_type": "text"
      },
      "source": [
        "## inception_score"
      ]
    },
    {
      "cell_type": "code",
      "metadata": {
        "id": "J-Vj-MfhOoSO",
        "colab_type": "code",
        "colab": {}
      },
      "source": [
        "from evaluation.generativity_metrics.inception_metrics import inception_score"
      ],
      "execution_count": null,
      "outputs": []
    },
    {
      "cell_type": "code",
      "metadata": {
        "id": "Vpa-YQlKOoSX",
        "colab_type": "code",
        "colab": {}
      },
      "source": [
        "is_mean, is_sigma = inception_score(ae, tolerance_threshold=1e-6, max_iteration=200)\n",
        "print(f'inception_score mean: {is_mean}, sigma: {is_sigma}')"
      ],
      "execution_count": null,
      "outputs": []
    },
    {
      "cell_type": "markdown",
      "metadata": {
        "id": "8bmx7Zm1OoSc",
        "colab_type": "text"
      },
      "source": [
        "## Frechet_inception_distance"
      ]
    },
    {
      "cell_type": "code",
      "metadata": {
        "id": "bLu8unI1OoSg",
        "colab_type": "code",
        "colab": {}
      },
      "source": [
        "from evaluation.generativity_metrics.inception_metrics import frechet_inception_distance"
      ],
      "execution_count": null,
      "outputs": []
    },
    {
      "cell_type": "code",
      "metadata": {
        "id": "o101qcA8OoSk",
        "colab_type": "code",
        "colab": {}
      },
      "source": [
        "fis_score = frechet_inception_distance(ae, training_generator, tolerance_threshold=1e-6, max_iteration=10, batch_size=32)\n",
        "print(f'frechet inception distance: {fis_score}')"
      ],
      "execution_count": null,
      "outputs": []
    },
    {
      "cell_type": "code",
      "metadata": {
        "id": "j3C7I3kWOoSw",
        "colab_type": "code",
        "colab": {}
      },
      "source": [
        ""
      ],
      "execution_count": null,
      "outputs": []
    },
    {
      "cell_type": "markdown",
      "metadata": {
        "id": "Q4HM-km7OoS8",
        "colab_type": "text"
      },
      "source": [
        "## perceptual_path_length_score"
      ]
    },
    {
      "cell_type": "code",
      "metadata": {
        "id": "cnNwHX5iOoS9",
        "colab_type": "code",
        "colab": {}
      },
      "source": [
        "from evaluation.generativity_metrics.perceptual_path_length import perceptual_path_length_score"
      ],
      "execution_count": null,
      "outputs": []
    },
    {
      "cell_type": "code",
      "metadata": {
        "id": "KmOO8Oh0OoTG",
        "colab_type": "code",
        "colab": {}
      },
      "source": [
        "ppl_mean_score = perceptual_path_length_score(ae, training_generator, tolerance_threshold=1e-6, max_iteration=200, batch_size=32)\n",
        "print(f'perceptual path length score: {ppl_mean_score}')"
      ],
      "execution_count": null,
      "outputs": []
    },
    {
      "cell_type": "code",
      "metadata": {
        "id": "dLM0YMHBOoTJ",
        "colab_type": "code",
        "colab": {}
      },
      "source": [
        ""
      ],
      "execution_count": null,
      "outputs": []
    },
    {
      "cell_type": "markdown",
      "metadata": {
        "id": "_UfyYAAuOoTP",
        "colab_type": "text"
      },
      "source": [
        "## precision score"
      ]
    },
    {
      "cell_type": "code",
      "metadata": {
        "id": "lcbSQw4eOoTQ",
        "colab_type": "code",
        "colab": {}
      },
      "source": [
        "from evaluation.generativity_metrics.precision_recall import precision_score"
      ],
      "execution_count": null,
      "outputs": []
    },
    {
      "cell_type": "code",
      "metadata": {
        "id": "UiNmMhxeOoTZ",
        "colab_type": "code",
        "colab": {}
      },
      "source": [
        "_precision_score = precision_score(ae, training_generator, tolerance_threshold=1e-6, max_iteration=200)\n",
        "print(f'precision score: {_precision_score}')"
      ],
      "execution_count": null,
      "outputs": []
    },
    {
      "cell_type": "markdown",
      "metadata": {
        "id": "i5L1AUc-OoTk",
        "colab_type": "text"
      },
      "source": [
        "## recall score"
      ]
    },
    {
      "cell_type": "code",
      "metadata": {
        "id": "0sADr1rMOoTv",
        "colab_type": "code",
        "colab": {}
      },
      "source": [
        "from evaluation.generativity_metrics.precision_recall import recall_score"
      ],
      "execution_count": null,
      "outputs": []
    },
    {
      "cell_type": "code",
      "metadata": {
        "id": "K2aYmfj0OoT0",
        "colab_type": "code",
        "colab": {}
      },
      "source": [
        "_recall_score = recall_score(ae, training_generator, tolerance_threshold=1e-6, max_iteration=200)\n",
        "print(f'recall score: {_recall_score}')"
      ],
      "execution_count": null,
      "outputs": []
    },
    {
      "cell_type": "code",
      "metadata": {
        "id": "7VWNIl5oOoT_",
        "colab_type": "code",
        "colab": {}
      },
      "source": [
        ""
      ],
      "execution_count": null,
      "outputs": []
    },
    {
      "cell_type": "markdown",
      "metadata": {
        "id": "aYQPc_XaOoUD",
        "colab_type": "text"
      },
      "source": [
        "# Image Generation"
      ]
    },
    {
      "cell_type": "markdown",
      "metadata": {
        "id": "arYv2TgVOoUG",
        "colab_type": "text"
      },
      "source": [
        "## image reconstruction"
      ]
    },
    {
      "cell_type": "markdown",
      "metadata": {
        "id": "DwerZoX9OoUJ",
        "colab_type": "text"
      },
      "source": [
        "### Training dataset"
      ]
    },
    {
      "cell_type": "code",
      "metadata": {
        "id": "zomTyy7iOoUK",
        "colab_type": "code",
        "colab": {}
      },
      "source": [
        "%load_ext autoreload\n",
        "%autoreload 2"
      ],
      "execution_count": null,
      "outputs": []
    },
    {
      "cell_type": "code",
      "metadata": {
        "id": "stT5HNRAOoUS",
        "colab_type": "code",
        "colab": {}
      },
      "source": [
        "from training.generators.image_generation_testing import reconstruct_from_a_batch"
      ],
      "execution_count": null,
      "outputs": []
    },
    {
      "cell_type": "code",
      "metadata": {
        "id": "UXsTmDhfOoUT",
        "colab_type": "code",
        "colab": {}
      },
      "source": [
        "from utils.data_and_files.file_utils import create_if_not_exist\n",
        "save_dir = os.path.join(experiments_dir, 'reconstruct_training_images_like_a_batch_dir')\n",
        "create_if_not_exist(save_dir)\n",
        "\n",
        "reconstruct_from_a_batch(ae, training_generator, save_dir)"
      ],
      "execution_count": null,
      "outputs": []
    },
    {
      "cell_type": "code",
      "metadata": {
        "id": "5jD0i_q6OoUY",
        "colab_type": "code",
        "colab": {}
      },
      "source": [
        "from utils.data_and_files.file_utils import create_if_not_exist\n",
        "save_dir = os.path.join(experiments_dir, 'reconstruct_testing_images_like_a_batch_dir')\n",
        "create_if_not_exist(save_dir)\n",
        "\n",
        "reconstruct_from_a_batch(ae, testing_generator, save_dir)"
      ],
      "execution_count": null,
      "outputs": []
    },
    {
      "cell_type": "markdown",
      "metadata": {
        "id": "wNQGODmWOoUc",
        "colab_type": "text"
      },
      "source": [
        "## with Randomness"
      ]
    },
    {
      "cell_type": "code",
      "metadata": {
        "id": "do7-8VD2OoUd",
        "colab_type": "code",
        "colab": {}
      },
      "source": [
        "from training.generators.image_generation_testing import generate_images_like_a_batch"
      ],
      "execution_count": null,
      "outputs": []
    },
    {
      "cell_type": "code",
      "metadata": {
        "id": "-yQajzFCOoUm",
        "colab_type": "code",
        "colab": {}
      },
      "source": [
        "from utils.data_and_files.file_utils import create_if_not_exist\n",
        "save_dir = os.path.join(experiments_dir, 'generate_training_images_like_a_batch_dir')\n",
        "create_if_not_exist(save_dir)\n",
        "\n",
        "generate_images_like_a_batch(ae, training_generator, save_dir)"
      ],
      "execution_count": null,
      "outputs": []
    },
    {
      "cell_type": "code",
      "metadata": {
        "id": "ViPsq27SOoUq",
        "colab_type": "code",
        "colab": {}
      },
      "source": [
        "from utils.data_and_files.file_utils import create_if_not_exist\n",
        "save_dir = os.path.join(experiments_dir, 'generate_testing_images_like_a_batch_dir')\n",
        "create_if_not_exist(save_dir)\n",
        "\n",
        "generate_images_like_a_batch(ae, testing_generator, save_dir)"
      ],
      "execution_count": null,
      "outputs": []
    },
    {
      "cell_type": "code",
      "metadata": {
        "id": "SeCzwaRsOoUs",
        "colab_type": "code",
        "colab": {}
      },
      "source": [
        ""
      ],
      "execution_count": null,
      "outputs": []
    },
    {
      "cell_type": "markdown",
      "metadata": {
        "id": "kDiU6up5OoUz",
        "colab_type": "text"
      },
      "source": [
        "### Complete Randomness"
      ]
    },
    {
      "cell_type": "code",
      "metadata": {
        "id": "mi7BYeYBOoU0",
        "colab_type": "code",
        "colab": {}
      },
      "source": [
        "from training.generators.image_generation_testing import generate_images_randomly"
      ],
      "execution_count": null,
      "outputs": []
    },
    {
      "cell_type": "code",
      "metadata": {
        "id": "tW--wJRKOoU4",
        "colab_type": "code",
        "colab": {}
      },
      "source": [
        "from utils.data_and_files.file_utils import create_if_not_exist\n",
        "save_dir = os.path.join(experiments_dir, 'random_synthetic_dir')\n",
        "create_if_not_exist(save_dir)\n",
        "\n",
        "generate_images_randomly(ae, save_dir)"
      ],
      "execution_count": null,
      "outputs": []
    },
    {
      "cell_type": "code",
      "metadata": {
        "id": "u25O0LfhOoU7",
        "colab_type": "code",
        "colab": {}
      },
      "source": [
        "from training.generators.image_generation_testing import interpolate_a_batch"
      ],
      "execution_count": null,
      "outputs": []
    },
    {
      "cell_type": "code",
      "metadata": {
        "scrolled": false,
        "id": "JGRB5DrbOoU_",
        "colab_type": "code",
        "colab": {}
      },
      "source": [
        "from utils.data_and_files.file_utils import create_if_not_exist\n",
        "save_dir = os.path.join(experiments_dir, 'interpolate_dir')\n",
        "create_if_not_exist(save_dir)\n",
        "\n",
        "interpolate_a_batch(ae, testing_generator, save_dir)"
      ],
      "execution_count": null,
      "outputs": []
    },
    {
      "cell_type": "code",
      "metadata": {
        "id": "BmTqJCb-OoVC",
        "colab_type": "code",
        "colab": {}
      },
      "source": [
        ""
      ],
      "execution_count": null,
      "outputs": []
    },
    {
      "cell_type": "code",
      "metadata": {
        "id": "8kaRfIHNOoVM",
        "colab_type": "code",
        "colab": {}
      },
      "source": [
        ""
      ],
      "execution_count": null,
      "outputs": []
    }
  ]
}